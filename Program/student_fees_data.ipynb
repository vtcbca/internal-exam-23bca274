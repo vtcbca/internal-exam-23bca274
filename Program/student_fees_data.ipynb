{
 "cells": [
  {
   "cell_type": "markdown",
   "id": "80bc1d51-00aa-4c8e-a866-9fa3f4e33f01",
   "metadata": {},
   "source": [
    "### <span style=\"background-color:white; color:black\">Program [ 1 ]\n",
    "#### <span style=\"background-color:white; color:black\">Create table stud(id, name, dept, paidfee) with 8 records. Create stud.csv file of the stud data (Department will be BBA and BCA).\n",
    "#### <span style=\"background-color:white; color:black\">Read csv file using reader object and write data with remaining fee. ( Total fee of bba is 13400 and bca is 15400 Rs)"
   ]
  },
  {
   "cell_type": "code",
   "execution_count": 1,
   "id": "ce4c4959-f45c-4eb1-8d00-4abd49344744",
   "metadata": {},
   "outputs": [],
   "source": [
    "import csv"
   ]
  },
  {
   "cell_type": "markdown",
   "id": "654332f4-49a6-434b-af1e-a8386de36881",
   "metadata": {},
   "source": [
    "### <span style=\"background-color:black; color:yellow\"> Read the CSV file and print data from the file with append() with skipping the header </span>"
   ]
  },
  {
   "cell_type": "code",
   "execution_count": 15,
   "id": "696d2a88-8167-4ac3-a989-504f01df5705",
   "metadata": {},
   "outputs": [
    {
     "name": "stdout",
     "output_type": "stream",
     "text": [
      "[['1', 'alice', 'BCA', '5000'], ['2', 'bob', 'BBA', '9000'], ['3', 'Charlie', 'BCA', '8000'], ['4', 'David', 'BBA', '8500'], ['5', 'Eva', 'BCA', '7000'], ['6', 'Frank', 'BBA', '10000'], ['7', 'Grace', 'BCA', '12000'], ['8', 'Herry', 'BBA', '5500']]\n"
     ]
    }
   ],
   "source": [
    "students = []\n",
    "\n",
    "with open(\"D:\\\\sqlite\\\\csv\\\\stud1.csv\", \"r\") as f:\n",
    "    r = csv.reader(f)\n",
    "    next(r)\n",
    "    for row in r:\n",
    "        if all(row):\n",
    "            students.append(row)\n",
    "print(students)"
   ]
  },
  {
   "cell_type": "markdown",
   "id": "998be37d-e6ac-446a-b52e-0a52cab3987d",
   "metadata": {},
   "source": [
    "### <span style=\"background-color:green; color:black\"> Define the total fees of BCA and BBA and convert paidfee into integer form and appending each data into a list"
   ]
  },
  {
   "cell_type": "code",
   "execution_count": 16,
   "id": "e9e0b54c-d1d8-45b7-baf2-b4337b1218d6",
   "metadata": {},
   "outputs": [
    {
     "name": "stdout",
     "output_type": "stream",
     "text": [
      "[['1', 'alice', 'BCA', 5000, 10400], ['2', 'bob', 'BBA', 9000, 4400], ['3', 'Charlie', 'BCA', 8000, 7400], ['4', 'David', 'BBA', 8500, 4900], ['5', 'Eva', 'BCA', 7000, 8400], ['6', 'Frank', 'BBA', 10000, 3400], ['7', 'Grace', 'BCA', 12000, 3400], ['8', 'Herry', 'BBA', 5500, 7900]]\n"
     ]
    }
   ],
   "source": [
    "total_fees = {\n",
    "    'BCA': 15400,\n",
    "    'BBA': 13400\n",
    "}\n",
    "students_with_remaining_fee = []\n",
    "for student in students:\n",
    "    id, name, dept, paidfee = student\n",
    "    if paidfee:\n",
    "        paidfee = int(paidfee)  \n",
    "    else:\n",
    "        paidfee = 0  \n",
    "    \n",
    "    remaining_fee = total_fees[dept] - paidfee\n",
    "    \n",
    "    # Append the updated data to the list\n",
    "    students_with_remaining_fee.append([id, name, dept, paidfee, remaining_fee])\n",
    "\n",
    "print(students_with_remaining_fee)"
   ]
  },
  {
   "cell_type": "markdown",
   "id": "9b57b183-ac3e-4636-939e-966e8da99aae",
   "metadata": {},
   "source": [
    "### <span style=\"background-color:beige; color:black\">Write the updated data into a new CSV file named \"stud_remaining_fee\" with header"
   ]
  },
  {
   "cell_type": "code",
   "execution_count": 17,
   "id": "58f73317-f6c6-4d68-be70-5bca2a6de6c2",
   "metadata": {},
   "outputs": [
    {
     "name": "stdout",
     "output_type": "stream",
     "text": [
      "File with remaining fees created successfully!\n"
     ]
    }
   ],
   "source": [
    "# Write the data with remaining fees to a new CSV file\n",
    "\n",
    "with open(\"D:\\\\sqlite\\\\csv\\\\stud_remaining_fee.csv\", \"w\", newline='') as f:\n",
    "    writer = csv.writer(f)\n",
    "    \n",
    "    # header\n",
    "    writer.writerow(['id', 'name', 'dept', 'paidfee', 'remaining_fee'])\n",
    "    \n",
    "    writer.writerows(students_with_remaining_fee)\n",
    "\n",
    "print(\"File with remaining fees created successfully!\")"
   ]
  },
  {
   "cell_type": "code",
   "execution_count": null,
   "id": "22ee460f-fa07-46bc-9757-d673343760f1",
   "metadata": {},
   "outputs": [],
   "source": []
  }
 ],
 "metadata": {
  "kernelspec": {
   "display_name": "Python 3 (ipykernel)",
   "language": "python",
   "name": "python3"
  },
  "language_info": {
   "codemirror_mode": {
    "name": "ipython",
    "version": 3
   },
   "file_extension": ".py",
   "mimetype": "text/x-python",
   "name": "python",
   "nbconvert_exporter": "python",
   "pygments_lexer": "ipython3",
   "version": "3.12.3"
  }
 },
 "nbformat": 4,
 "nbformat_minor": 5
}
